{
 "cells": [
  {
   "cell_type": "code",
   "execution_count": 57,
   "metadata": {},
   "outputs": [
    {
     "name": "stdout",
     "output_type": "stream",
     "text": [
      "The autoreload extension is already loaded. To reload it, use:\n",
      "  %reload_ext autoreload\n"
     ]
    }
   ],
   "source": [
    "%load_ext autoreload\n",
    "%autoreload 2"
   ]
  },
  {
   "attachments": {},
   "cell_type": "markdown",
   "metadata": {},
   "source": [
    "## DB Setup\n",
    "\n",
    "We assume you already have a postgres database ready."
   ]
  },
  {
   "cell_type": "code",
   "execution_count": 58,
   "metadata": {},
   "outputs": [],
   "source": [
    "DATABASE = \"demo\"\n",
    "USER = \"postgres\"\n",
    "PASSWORD = \"changeme\"\n",
    "HOST = \"localhost\"\n",
    "PORT = 5432\n",
    "TABLES = []  # list of tables to load or [] to load all tables"
   ]
  },
  {
   "cell_type": "code",
   "execution_count": 59,
   "metadata": {},
   "outputs": [],
   "source": [
    "from db_connectors import PostgresConnector\n",
    "from prompt_formatters import RajkumarFormatter\n",
    "\n",
    "# Get the connector and formatter\n",
    "postgres_connector = PostgresConnector(\n",
    "    user=USER, password=PASSWORD, dbname=DATABASE, host=HOST, port=PORT\n",
    ")\n",
    "postgres_connector.connect()\n",
    "# if len(TABLES) <= 0:\n",
    "#     TABLES.extend(postgres_connector.get_tables())\n",
    "\n",
    "# print(f\"Loading tables: {TABLES}\")\n",
    "\n",
    "db_schema = [postgres_connector.get_schema(table) for table in TABLES]\n",
    "formatter = RajkumarFormatter(db_schema)"
   ]
  },
  {
   "attachments": {},
   "cell_type": "markdown",
   "metadata": {},
   "source": [
    "## Model Setup\n",
    "\n",
    "In a separate screen or window, first install [Manifest](https://github.com/HazyResearch/manifest)\n",
    "```bash\n",
    "pip install manifest-ml\\[all\\]\n",
    "```\n",
    "\n",
    "Then run\n",
    "```bash\n",
    "python3 -m manifest.api.app \\\n",
    "    --model_type huggingface \\\n",
    "    --model_generation_type text-generation \\\n",
    "    --model_name_or_path NumbersStation/nsql-350M \\\n",
    "    --device 0\n",
    "```\n",
    "\n",
    "If successful, you will see an output like\n",
    "```bash\n",
    "* Running on http://127.0.0.1:5000\n",
    "```"
   ]
  },
  {
   "cell_type": "code",
   "execution_count": 62,
   "metadata": {},
   "outputs": [
    {
     "ename": "ModuleNotFoundError",
     "evalue": "No module named 'manifest'",
     "output_type": "error",
     "traceback": [
      "\u001b[1;31m---------------------------------------------------------------------------\u001b[0m",
      "\u001b[1;31mModuleNotFoundError\u001b[0m                       Traceback (most recent call last)",
      "\u001b[1;32md:\\son\\AI\\NSQL\\examples\\postgres.ipynb Cell 6\u001b[0m line \u001b[0;36m1\n\u001b[1;32m----> <a href='vscode-notebook-cell:/d%3A/son/AI/NSQL/examples/postgres.ipynb#W5sZmlsZQ%3D%3D?line=0'>1</a>\u001b[0m \u001b[39mfrom\u001b[39;00m \u001b[39mmanifest\u001b[39;00m \u001b[39mimport\u001b[39;00m Manifest\n\u001b[0;32m      <a href='vscode-notebook-cell:/d%3A/son/AI/NSQL/examples/postgres.ipynb#W5sZmlsZQ%3D%3D?line=2'>3</a>\u001b[0m manifest_client \u001b[39m=\u001b[39m Manifest(client_name\u001b[39m=\u001b[39m\u001b[39m\"\u001b[39m\u001b[39mhuggingface\u001b[39m\u001b[39m\"\u001b[39m, client_connection\u001b[39m=\u001b[39m\u001b[39m\"\u001b[39m\u001b[39mhttp://127.0.0.1:5000\u001b[39m\u001b[39m\"\u001b[39m)\n\u001b[0;32m      <a href='vscode-notebook-cell:/d%3A/son/AI/NSQL/examples/postgres.ipynb#W5sZmlsZQ%3D%3D?line=4'>5</a>\u001b[0m \u001b[39mdef\u001b[39;00m \u001b[39mget_sql\u001b[39m(instruction: \u001b[39mstr\u001b[39m, max_tokens: \u001b[39mint\u001b[39m \u001b[39m=\u001b[39m \u001b[39m300\u001b[39m) \u001b[39m-\u001b[39m\u001b[39m>\u001b[39m \u001b[39mstr\u001b[39m:\n",
      "\u001b[1;31mModuleNotFoundError\u001b[0m: No module named 'manifest'"
     ]
    }
   ],
   "source": [
    "from manifest import Manifest\n",
    "\n",
    "manifest_client = Manifest(client_name=\"huggingface\", client_connection=\"http://127.0.0.1:5000\")\n",
    "\n",
    "def get_sql(instruction: str, max_tokens: int = 300) -> str:\n",
    "    prompt = formatter.format_prompt(instruction)\n",
    "    res = manifest_client.run(prompt, max_tokens=max_tokens)\n",
    "    return formatter.format_model_output(res)"
   ]
  },
  {
   "cell_type": "code",
   "execution_count": null,
   "metadata": {},
   "outputs": [],
   "source": [
    "sql = get_sql(\"Number of rows in table?\")\n",
    "print(sql)"
   ]
  },
  {
   "cell_type": "code",
   "execution_count": null,
   "metadata": {},
   "outputs": [],
   "source": [
    "print(postgres_connector.run_sql_as_df(sql))"
   ]
  }
 ],
 "metadata": {
  "kernelspec": {
   "display_name": "dbt",
   "language": "python",
   "name": "python3"
  },
  "language_info": {
   "codemirror_mode": {
    "name": "ipython",
    "version": 3
   },
   "file_extension": ".py",
   "mimetype": "text/x-python",
   "name": "python",
   "nbconvert_exporter": "python",
   "pygments_lexer": "ipython3",
   "version": "3.11.5"
  },
  "orig_nbformat": 4
 },
 "nbformat": 4,
 "nbformat_minor": 2
}
